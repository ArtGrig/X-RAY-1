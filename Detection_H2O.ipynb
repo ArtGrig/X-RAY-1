{
 "cells": [
  {
   "cell_type": "code",
   "execution_count": 23,
   "metadata": {
    "collapsed": false
   },
   "outputs": [],
   "source": [
    "%matplotlib inline\n",
    "import numpy as np\n",
    "import pylab as plt\n",
    "from glob import glob\n",
    "import os\n",
    "import math\n",
    "import sys\n",
    "sys.path.insert(0,r\"C:\\Program Files\\xraylib 64-bit\\Python\")\n",
    "import xraylib\n"
   ]
  },
  {
   "cell_type": "code",
   "execution_count": 24,
   "metadata": {
    "collapsed": true
   },
   "outputs": [],
   "source": [
    "def absorb(E, material, s, r): \n",
    "    \"\"\"\n",
    "    This function calculate the intensity of the radiation given absorption.\n",
    "    \n",
    "    :param l: wavelength\n",
    "    :param intensity: intensity without absorption\n",
    "    :param material: absorbing layer\n",
    "    :param s: the thickness of the absorbing layer\n",
    "    :returns: intensity with absorption\n",
    "    \"\"\"\n",
    "    A = np.exp(-xraylib.CS_Total_CP(material, E)*r*s)\n",
    "    return A\n"
   ]
  },
  {
   "cell_type": "code",
   "execution_count": 25,
   "metadata": {
    "collapsed": true
   },
   "outputs": [],
   "source": [
    "def func(E, Ek):\n",
    "    \n",
    "\n",
    "    z=42.0 # порядковый номер элемента анода(молибден)\n",
    "    res = z*Ek*Ek/12.39/12.39*E*E*(Ek/12.39-1/12.39*E)\n",
    "    return res"
   ]
  },
  {
   "cell_type": "code",
   "execution_count": 44,
   "metadata": {
    "collapsed": false
   },
   "outputs": [],
   "source": [
    "Ekr = 1000 #np.arange(10, 100, 10)\n",
    "E = 2/3*Ekr\n",
    "t0 = 1/5*0.009\n",
    "t = 0\n",
    "m = 360 \n",
    "n = 240\n",
    "Mas = a = [[func(E,Ekr)] * n for i in range(m)]\n",
    "\n",
    "for i in range(0, m, 1):\n",
    "    for j in range(0, n, 1):\n",
    "        if i>130 and i<=180:\n",
    "            t=t+t0\n",
    "            Mas[i][j] = func(E,Ekr)*absorb(E, 'H2O', t, 1)\n",
    "        elif i>180 and i<=230:\n",
    "            t=t-t0\n",
    "            Mas[i][j] = func(E,Ekr)*absorb(E, 'H2O', t, 1)\n",
    "            "
   ]
  },
  {
   "cell_type": "code",
   "execution_count": 45,
   "metadata": {
    "collapsed": false
   },
   "outputs": [
    {
     "data": {
      "image/png": "[encoded data removed]",
      "text/plain": [
       "<matplotlib.figure.Figure at 0x2ae28f21d0>"
      ]
     },
     "metadata": {},
     "output_type": "display_data"
    }
   ],
   "source": [
    "\n",
    "plt.figure(figsize=(10,10))\n",
    "plt.imshow(Mas, cmap=plt.cm.viridis)\n",
    "plt.colorbar()\n",
    "plt.show()"
   ]
  },
  {
   "cell_type": "code",
   "execution_count": null,
   "metadata": {
    "collapsed": true
   },
   "outputs": [],
   "source": []
  }
 ],
 "metadata": {
  "anaconda-cloud": {},
  "kernelspec": {
   "display_name": "Python 3",
   "language": "python",
   "name": "python3"
  },
  "language_info": {
   "codemirror_mode": {
    "name": "ipython",
    "version": 3
   },
   "file_extension": ".py",
   "mimetype": "text/x-python",
   "name": "python",
   "nbconvert_exporter": "python",
   "pygments_lexer": "ipython3",
   "version": "3.5.3"
  }
 },
 "nbformat": 4,
 "nbformat_minor": 1
}
